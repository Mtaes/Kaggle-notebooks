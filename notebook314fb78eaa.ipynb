{
 "cells": [
  {
   "cell_type": "code",
   "execution_count": 1,
   "id": "incorporate-sucking",
   "metadata": {
    "_cell_guid": "b1076dfc-b9ad-4769-8c92-a6c4dae69d19",
    "_uuid": "8f2839f25d086af736a60e9eeb907d3b93b6e0e5",
    "execution": {
     "iopub.execute_input": "2021-04-29T14:42:23.857880Z",
     "iopub.status.busy": "2021-04-29T14:42:23.856599Z",
     "iopub.status.idle": "2021-04-29T14:42:23.870089Z",
     "shell.execute_reply": "2021-04-29T14:42:23.870917Z"
    },
    "papermill": {
     "duration": 0.036328,
     "end_time": "2021-04-29T14:42:23.871563",
     "exception": false,
     "start_time": "2021-04-29T14:42:23.835235",
     "status": "completed"
    },
    "tags": []
   },
   "outputs": [
    {
     "name": "stdout",
     "output_type": "stream",
     "text": [
      "/kaggle/input/titanic/train.csv\n",
      "/kaggle/input/titanic/test.csv\n",
      "/kaggle/input/titanic/gender_submission.csv\n"
     ]
    }
   ],
   "source": [
    "# This Python 3 environment comes with many helpful analytics libraries installed\n",
    "# It is defined by the kaggle/python Docker image: https://github.com/kaggle/docker-python\n",
    "# For example, here's several helpful packages to load\n",
    "\n",
    "import numpy as np # linear algebra\n",
    "import pandas as pd # data processing, CSV file I/O (e.g. pd.read_csv)\n",
    "\n",
    "# Input data files are available in the read-only \"../input/\" directory\n",
    "# For example, running this (by clicking run or pressing Shift+Enter) will list all files under the input directory\n",
    "\n",
    "import os\n",
    "for dirname, _, filenames in os.walk('/kaggle/input'):\n",
    "    for filename in filenames:\n",
    "        print(os.path.join(dirname, filename))\n",
    "\n",
    "# You can write up to 20GB to the current directory (/kaggle/working/) that gets preserved as output when you create a version using \"Save & Run All\" \n",
    "# You can also write temporary files to /kaggle/temp/, but they won't be saved outside of the current session"
   ]
  },
  {
   "cell_type": "code",
   "execution_count": 2,
   "id": "danish-computer",
   "metadata": {
    "execution": {
     "iopub.execute_input": "2021-04-29T14:42:23.907907Z",
     "iopub.status.busy": "2021-04-29T14:42:23.907251Z",
     "iopub.status.idle": "2021-04-29T14:42:23.980180Z",
     "shell.execute_reply": "2021-04-29T14:42:23.980658Z"
    },
    "papermill": {
     "duration": 0.092171,
     "end_time": "2021-04-29T14:42:23.980850",
     "exception": false,
     "start_time": "2021-04-29T14:42:23.888679",
     "status": "completed"
    },
    "tags": []
   },
   "outputs": [
    {
     "data": {
      "text/html": [
       "<div>\n",
       "<style scoped>\n",
       "    .dataframe tbody tr th:only-of-type {\n",
       "        vertical-align: middle;\n",
       "    }\n",
       "\n",
       "    .dataframe tbody tr th {\n",
       "        vertical-align: top;\n",
       "    }\n",
       "\n",
       "    .dataframe thead th {\n",
       "        text-align: right;\n",
       "    }\n",
       "</style>\n",
       "<table border=\"1\" class=\"dataframe\">\n",
       "  <thead>\n",
       "    <tr style=\"text-align: right;\">\n",
       "      <th></th>\n",
       "      <th>PassengerId</th>\n",
       "      <th>Survived</th>\n",
       "      <th>Pclass</th>\n",
       "      <th>Age</th>\n",
       "      <th>SibSp</th>\n",
       "      <th>Parch</th>\n",
       "      <th>Fare</th>\n",
       "    </tr>\n",
       "  </thead>\n",
       "  <tbody>\n",
       "    <tr>\n",
       "      <th>count</th>\n",
       "      <td>891.000000</td>\n",
       "      <td>891.000000</td>\n",
       "      <td>891.000000</td>\n",
       "      <td>714.000000</td>\n",
       "      <td>891.000000</td>\n",
       "      <td>891.000000</td>\n",
       "      <td>891.000000</td>\n",
       "    </tr>\n",
       "    <tr>\n",
       "      <th>mean</th>\n",
       "      <td>446.000000</td>\n",
       "      <td>0.383838</td>\n",
       "      <td>2.308642</td>\n",
       "      <td>29.699118</td>\n",
       "      <td>0.523008</td>\n",
       "      <td>0.381594</td>\n",
       "      <td>32.204208</td>\n",
       "    </tr>\n",
       "    <tr>\n",
       "      <th>std</th>\n",
       "      <td>257.353842</td>\n",
       "      <td>0.486592</td>\n",
       "      <td>0.836071</td>\n",
       "      <td>14.526497</td>\n",
       "      <td>1.102743</td>\n",
       "      <td>0.806057</td>\n",
       "      <td>49.693429</td>\n",
       "    </tr>\n",
       "    <tr>\n",
       "      <th>min</th>\n",
       "      <td>1.000000</td>\n",
       "      <td>0.000000</td>\n",
       "      <td>1.000000</td>\n",
       "      <td>0.420000</td>\n",
       "      <td>0.000000</td>\n",
       "      <td>0.000000</td>\n",
       "      <td>0.000000</td>\n",
       "    </tr>\n",
       "    <tr>\n",
       "      <th>25%</th>\n",
       "      <td>223.500000</td>\n",
       "      <td>0.000000</td>\n",
       "      <td>2.000000</td>\n",
       "      <td>20.125000</td>\n",
       "      <td>0.000000</td>\n",
       "      <td>0.000000</td>\n",
       "      <td>7.910400</td>\n",
       "    </tr>\n",
       "    <tr>\n",
       "      <th>50%</th>\n",
       "      <td>446.000000</td>\n",
       "      <td>0.000000</td>\n",
       "      <td>3.000000</td>\n",
       "      <td>28.000000</td>\n",
       "      <td>0.000000</td>\n",
       "      <td>0.000000</td>\n",
       "      <td>14.454200</td>\n",
       "    </tr>\n",
       "    <tr>\n",
       "      <th>75%</th>\n",
       "      <td>668.500000</td>\n",
       "      <td>1.000000</td>\n",
       "      <td>3.000000</td>\n",
       "      <td>38.000000</td>\n",
       "      <td>1.000000</td>\n",
       "      <td>0.000000</td>\n",
       "      <td>31.000000</td>\n",
       "    </tr>\n",
       "    <tr>\n",
       "      <th>max</th>\n",
       "      <td>891.000000</td>\n",
       "      <td>1.000000</td>\n",
       "      <td>3.000000</td>\n",
       "      <td>80.000000</td>\n",
       "      <td>8.000000</td>\n",
       "      <td>6.000000</td>\n",
       "      <td>512.329200</td>\n",
       "    </tr>\n",
       "  </tbody>\n",
       "</table>\n",
       "</div>"
      ],
      "text/plain": [
       "       PassengerId    Survived      Pclass         Age       SibSp  \\\n",
       "count   891.000000  891.000000  891.000000  714.000000  891.000000   \n",
       "mean    446.000000    0.383838    2.308642   29.699118    0.523008   \n",
       "std     257.353842    0.486592    0.836071   14.526497    1.102743   \n",
       "min       1.000000    0.000000    1.000000    0.420000    0.000000   \n",
       "25%     223.500000    0.000000    2.000000   20.125000    0.000000   \n",
       "50%     446.000000    0.000000    3.000000   28.000000    0.000000   \n",
       "75%     668.500000    1.000000    3.000000   38.000000    1.000000   \n",
       "max     891.000000    1.000000    3.000000   80.000000    8.000000   \n",
       "\n",
       "            Parch        Fare  \n",
       "count  891.000000  891.000000  \n",
       "mean     0.381594   32.204208  \n",
       "std      0.806057   49.693429  \n",
       "min      0.000000    0.000000  \n",
       "25%      0.000000    7.910400  \n",
       "50%      0.000000   14.454200  \n",
       "75%      0.000000   31.000000  \n",
       "max      6.000000  512.329200  "
      ]
     },
     "execution_count": 2,
     "metadata": {},
     "output_type": "execute_result"
    }
   ],
   "source": [
    "train_data = pd.read_csv(\"/kaggle/input/titanic/train.csv\")\n",
    "train_data.describe()"
   ]
  },
  {
   "cell_type": "code",
   "execution_count": 3,
   "id": "dimensional-limitation",
   "metadata": {
    "execution": {
     "iopub.execute_input": "2021-04-29T14:42:24.024333Z",
     "iopub.status.busy": "2021-04-29T14:42:24.023386Z",
     "iopub.status.idle": "2021-04-29T14:42:24.029048Z",
     "shell.execute_reply": "2021-04-29T14:42:24.028474Z"
    },
    "papermill": {
     "duration": 0.031361,
     "end_time": "2021-04-29T14:42:24.029227",
     "exception": false,
     "start_time": "2021-04-29T14:42:23.997866",
     "status": "completed"
    },
    "tags": []
   },
   "outputs": [
    {
     "data": {
      "text/plain": [
       "PassengerId      int64\n",
       "Survived         int64\n",
       "Pclass           int64\n",
       "Name            object\n",
       "Sex             object\n",
       "Age            float64\n",
       "SibSp            int64\n",
       "Parch            int64\n",
       "Ticket          object\n",
       "Fare           float64\n",
       "Cabin           object\n",
       "Embarked        object\n",
       "dtype: object"
      ]
     },
     "execution_count": 3,
     "metadata": {},
     "output_type": "execute_result"
    }
   ],
   "source": [
    "train_data.dtypes"
   ]
  },
  {
   "cell_type": "code",
   "execution_count": 4,
   "id": "southern-saver",
   "metadata": {
    "execution": {
     "iopub.execute_input": "2021-04-29T14:42:24.066481Z",
     "iopub.status.busy": "2021-04-29T14:42:24.065531Z",
     "iopub.status.idle": "2021-04-29T14:42:24.075096Z",
     "shell.execute_reply": "2021-04-29T14:42:24.074209Z"
    },
    "papermill": {
     "duration": 0.029331,
     "end_time": "2021-04-29T14:42:24.075323",
     "exception": false,
     "start_time": "2021-04-29T14:42:24.045992",
     "status": "completed"
    },
    "tags": []
   },
   "outputs": [
    {
     "name": "stdout",
     "output_type": "stream",
     "text": [
      "Index(['Name', 'Sex', 'Ticket', 'Cabin', 'Embarked'], dtype='object')\n"
     ]
    }
   ],
   "source": [
    "train_data_object_columns = train_data.dtypes[train_data.dtypes == 'object'].index\n",
    "print(train_data_object_columns)"
   ]
  },
  {
   "cell_type": "code",
   "execution_count": 5,
   "id": "treated-longer",
   "metadata": {
    "execution": {
     "iopub.execute_input": "2021-04-29T14:42:24.128678Z",
     "iopub.status.busy": "2021-04-29T14:42:24.127744Z",
     "iopub.status.idle": "2021-04-29T14:42:24.133665Z",
     "shell.execute_reply": "2021-04-29T14:42:24.132957Z"
    },
    "papermill": {
     "duration": 0.040205,
     "end_time": "2021-04-29T14:42:24.133823",
     "exception": false,
     "start_time": "2021-04-29T14:42:24.093618",
     "status": "completed"
    },
    "tags": []
   },
   "outputs": [
    {
     "data": {
      "text/html": [
       "<div>\n",
       "<style scoped>\n",
       "    .dataframe tbody tr th:only-of-type {\n",
       "        vertical-align: middle;\n",
       "    }\n",
       "\n",
       "    .dataframe tbody tr th {\n",
       "        vertical-align: top;\n",
       "    }\n",
       "\n",
       "    .dataframe thead th {\n",
       "        text-align: right;\n",
       "    }\n",
       "</style>\n",
       "<table border=\"1\" class=\"dataframe\">\n",
       "  <thead>\n",
       "    <tr style=\"text-align: right;\">\n",
       "      <th></th>\n",
       "      <th>Name</th>\n",
       "      <th>Sex</th>\n",
       "      <th>Ticket</th>\n",
       "      <th>Cabin</th>\n",
       "      <th>Embarked</th>\n",
       "    </tr>\n",
       "  </thead>\n",
       "  <tbody>\n",
       "    <tr>\n",
       "      <th>0</th>\n",
       "      <td>Braund, Mr. Owen Harris</td>\n",
       "      <td>male</td>\n",
       "      <td>A/5 21171</td>\n",
       "      <td>NaN</td>\n",
       "      <td>S</td>\n",
       "    </tr>\n",
       "    <tr>\n",
       "      <th>1</th>\n",
       "      <td>Cumings, Mrs. John Bradley (Florence Briggs Th...</td>\n",
       "      <td>female</td>\n",
       "      <td>PC 17599</td>\n",
       "      <td>C85</td>\n",
       "      <td>C</td>\n",
       "    </tr>\n",
       "    <tr>\n",
       "      <th>2</th>\n",
       "      <td>Heikkinen, Miss. Laina</td>\n",
       "      <td>female</td>\n",
       "      <td>STON/O2. 3101282</td>\n",
       "      <td>NaN</td>\n",
       "      <td>S</td>\n",
       "    </tr>\n",
       "    <tr>\n",
       "      <th>3</th>\n",
       "      <td>Futrelle, Mrs. Jacques Heath (Lily May Peel)</td>\n",
       "      <td>female</td>\n",
       "      <td>113803</td>\n",
       "      <td>C123</td>\n",
       "      <td>S</td>\n",
       "    </tr>\n",
       "    <tr>\n",
       "      <th>4</th>\n",
       "      <td>Allen, Mr. William Henry</td>\n",
       "      <td>male</td>\n",
       "      <td>373450</td>\n",
       "      <td>NaN</td>\n",
       "      <td>S</td>\n",
       "    </tr>\n",
       "    <tr>\n",
       "      <th>...</th>\n",
       "      <td>...</td>\n",
       "      <td>...</td>\n",
       "      <td>...</td>\n",
       "      <td>...</td>\n",
       "      <td>...</td>\n",
       "    </tr>\n",
       "    <tr>\n",
       "      <th>886</th>\n",
       "      <td>Montvila, Rev. Juozas</td>\n",
       "      <td>male</td>\n",
       "      <td>211536</td>\n",
       "      <td>NaN</td>\n",
       "      <td>S</td>\n",
       "    </tr>\n",
       "    <tr>\n",
       "      <th>887</th>\n",
       "      <td>Graham, Miss. Margaret Edith</td>\n",
       "      <td>female</td>\n",
       "      <td>112053</td>\n",
       "      <td>B42</td>\n",
       "      <td>S</td>\n",
       "    </tr>\n",
       "    <tr>\n",
       "      <th>888</th>\n",
       "      <td>Johnston, Miss. Catherine Helen \"Carrie\"</td>\n",
       "      <td>female</td>\n",
       "      <td>W./C. 6607</td>\n",
       "      <td>NaN</td>\n",
       "      <td>S</td>\n",
       "    </tr>\n",
       "    <tr>\n",
       "      <th>889</th>\n",
       "      <td>Behr, Mr. Karl Howell</td>\n",
       "      <td>male</td>\n",
       "      <td>111369</td>\n",
       "      <td>C148</td>\n",
       "      <td>C</td>\n",
       "    </tr>\n",
       "    <tr>\n",
       "      <th>890</th>\n",
       "      <td>Dooley, Mr. Patrick</td>\n",
       "      <td>male</td>\n",
       "      <td>370376</td>\n",
       "      <td>NaN</td>\n",
       "      <td>Q</td>\n",
       "    </tr>\n",
       "  </tbody>\n",
       "</table>\n",
       "<p>891 rows × 5 columns</p>\n",
       "</div>"
      ],
      "text/plain": [
       "                                                  Name     Sex  \\\n",
       "0                              Braund, Mr. Owen Harris    male   \n",
       "1    Cumings, Mrs. John Bradley (Florence Briggs Th...  female   \n",
       "2                               Heikkinen, Miss. Laina  female   \n",
       "3         Futrelle, Mrs. Jacques Heath (Lily May Peel)  female   \n",
       "4                             Allen, Mr. William Henry    male   \n",
       "..                                                 ...     ...   \n",
       "886                              Montvila, Rev. Juozas    male   \n",
       "887                       Graham, Miss. Margaret Edith  female   \n",
       "888           Johnston, Miss. Catherine Helen \"Carrie\"  female   \n",
       "889                              Behr, Mr. Karl Howell    male   \n",
       "890                                Dooley, Mr. Patrick    male   \n",
       "\n",
       "               Ticket Cabin Embarked  \n",
       "0           A/5 21171   NaN        S  \n",
       "1            PC 17599   C85        C  \n",
       "2    STON/O2. 3101282   NaN        S  \n",
       "3              113803  C123        S  \n",
       "4              373450   NaN        S  \n",
       "..                ...   ...      ...  \n",
       "886            211536   NaN        S  \n",
       "887            112053   B42        S  \n",
       "888        W./C. 6607   NaN        S  \n",
       "889            111369  C148        C  \n",
       "890            370376   NaN        Q  \n",
       "\n",
       "[891 rows x 5 columns]"
      ]
     },
     "execution_count": 5,
     "metadata": {},
     "output_type": "execute_result"
    }
   ],
   "source": [
    "train_data[train_data_object_columns]"
   ]
  },
  {
   "cell_type": "code",
   "execution_count": 6,
   "id": "charming-banking",
   "metadata": {
    "execution": {
     "iopub.execute_input": "2021-04-29T14:42:24.181908Z",
     "iopub.status.busy": "2021-04-29T14:42:24.181245Z",
     "iopub.status.idle": "2021-04-29T14:42:24.219902Z",
     "shell.execute_reply": "2021-04-29T14:42:24.219334Z"
    },
    "papermill": {
     "duration": 0.068392,
     "end_time": "2021-04-29T14:42:24.220058",
     "exception": false,
     "start_time": "2021-04-29T14:42:24.151666",
     "status": "completed"
    },
    "tags": []
   },
   "outputs": [
    {
     "data": {
      "text/html": [
       "<div>\n",
       "<style scoped>\n",
       "    .dataframe tbody tr th:only-of-type {\n",
       "        vertical-align: middle;\n",
       "    }\n",
       "\n",
       "    .dataframe tbody tr th {\n",
       "        vertical-align: top;\n",
       "    }\n",
       "\n",
       "    .dataframe thead th {\n",
       "        text-align: right;\n",
       "    }\n",
       "</style>\n",
       "<table border=\"1\" class=\"dataframe\">\n",
       "  <thead>\n",
       "    <tr style=\"text-align: right;\">\n",
       "      <th></th>\n",
       "      <th>Name</th>\n",
       "      <th>Sex</th>\n",
       "      <th>Ticket</th>\n",
       "      <th>Cabin</th>\n",
       "      <th>Embarked</th>\n",
       "    </tr>\n",
       "  </thead>\n",
       "  <tbody>\n",
       "    <tr>\n",
       "      <th>count</th>\n",
       "      <td>891</td>\n",
       "      <td>891</td>\n",
       "      <td>891</td>\n",
       "      <td>204</td>\n",
       "      <td>889</td>\n",
       "    </tr>\n",
       "    <tr>\n",
       "      <th>unique</th>\n",
       "      <td>891</td>\n",
       "      <td>2</td>\n",
       "      <td>681</td>\n",
       "      <td>147</td>\n",
       "      <td>3</td>\n",
       "    </tr>\n",
       "    <tr>\n",
       "      <th>top</th>\n",
       "      <td>Holverson, Mr. Alexander Oskar</td>\n",
       "      <td>male</td>\n",
       "      <td>CA. 2343</td>\n",
       "      <td>B96 B98</td>\n",
       "      <td>S</td>\n",
       "    </tr>\n",
       "    <tr>\n",
       "      <th>freq</th>\n",
       "      <td>1</td>\n",
       "      <td>577</td>\n",
       "      <td>7</td>\n",
       "      <td>4</td>\n",
       "      <td>644</td>\n",
       "    </tr>\n",
       "  </tbody>\n",
       "</table>\n",
       "</div>"
      ],
      "text/plain": [
       "                                  Name   Sex    Ticket    Cabin Embarked\n",
       "count                              891   891       891      204      889\n",
       "unique                             891     2       681      147        3\n",
       "top     Holverson, Mr. Alexander Oskar  male  CA. 2343  B96 B98        S\n",
       "freq                                 1   577         7        4      644"
      ]
     },
     "execution_count": 6,
     "metadata": {},
     "output_type": "execute_result"
    }
   ],
   "source": [
    "train_data[train_data_object_columns].describe()"
   ]
  },
  {
   "cell_type": "code",
   "execution_count": 7,
   "id": "restricted-bernard",
   "metadata": {
    "execution": {
     "iopub.execute_input": "2021-04-29T14:42:24.263042Z",
     "iopub.status.busy": "2021-04-29T14:42:24.262382Z",
     "iopub.status.idle": "2021-04-29T14:42:24.265531Z",
     "shell.execute_reply": "2021-04-29T14:42:24.265984Z"
    },
    "papermill": {
     "duration": 0.028254,
     "end_time": "2021-04-29T14:42:24.266175",
     "exception": false,
     "start_time": "2021-04-29T14:42:24.237921",
     "status": "completed"
    },
    "tags": []
   },
   "outputs": [
    {
     "data": {
      "text/plain": [
       "array(['male', 'female'], dtype=object)"
      ]
     },
     "execution_count": 7,
     "metadata": {},
     "output_type": "execute_result"
    }
   ],
   "source": [
    "train_data.Sex.unique()"
   ]
  },
  {
   "cell_type": "code",
   "execution_count": 8,
   "id": "direct-creature",
   "metadata": {
    "execution": {
     "iopub.execute_input": "2021-04-29T14:42:24.329020Z",
     "iopub.status.busy": "2021-04-29T14:42:24.328103Z",
     "iopub.status.idle": "2021-04-29T14:42:24.331978Z",
     "shell.execute_reply": "2021-04-29T14:42:24.332727Z"
    },
    "papermill": {
     "duration": 0.041081,
     "end_time": "2021-04-29T14:42:24.333010",
     "exception": false,
     "start_time": "2021-04-29T14:42:24.291929",
     "status": "completed"
    },
    "tags": []
   },
   "outputs": [
    {
     "data": {
      "text/plain": [
       "array(['S', 'C', 'Q', nan], dtype=object)"
      ]
     },
     "execution_count": 8,
     "metadata": {},
     "output_type": "execute_result"
    }
   ],
   "source": [
    "train_data.Embarked.unique()"
   ]
  },
  {
   "cell_type": "code",
   "execution_count": 9,
   "id": "laughing-lodge",
   "metadata": {
    "execution": {
     "iopub.execute_input": "2021-04-29T14:42:24.385877Z",
     "iopub.status.busy": "2021-04-29T14:42:24.384876Z",
     "iopub.status.idle": "2021-04-29T14:42:24.398414Z",
     "shell.execute_reply": "2021-04-29T14:42:24.397403Z"
    },
    "papermill": {
     "duration": 0.039421,
     "end_time": "2021-04-29T14:42:24.398654",
     "exception": false,
     "start_time": "2021-04-29T14:42:24.359233",
     "status": "completed"
    },
    "tags": []
   },
   "outputs": [
    {
     "data": {
      "text/plain": [
       "PassengerId      0\n",
       "Survived         0\n",
       "Pclass           0\n",
       "Name             0\n",
       "Sex              0\n",
       "Age            177\n",
       "SibSp            0\n",
       "Parch            0\n",
       "Ticket           0\n",
       "Fare             0\n",
       "Cabin          687\n",
       "Embarked         2\n",
       "dtype: int64"
      ]
     },
     "execution_count": 9,
     "metadata": {},
     "output_type": "execute_result"
    }
   ],
   "source": [
    "train_data.isnull().sum()"
   ]
  },
  {
   "cell_type": "code",
   "execution_count": 10,
   "id": "polar-staff",
   "metadata": {
    "execution": {
     "iopub.execute_input": "2021-04-29T14:42:24.448549Z",
     "iopub.status.busy": "2021-04-29T14:42:24.447437Z",
     "iopub.status.idle": "2021-04-29T14:42:24.478815Z",
     "shell.execute_reply": "2021-04-29T14:42:24.479431Z"
    },
    "papermill": {
     "duration": 0.05614,
     "end_time": "2021-04-29T14:42:24.479628",
     "exception": false,
     "start_time": "2021-04-29T14:42:24.423488",
     "status": "completed"
    },
    "tags": []
   },
   "outputs": [
    {
     "data": {
      "text/html": [
       "<div>\n",
       "<style scoped>\n",
       "    .dataframe tbody tr th:only-of-type {\n",
       "        vertical-align: middle;\n",
       "    }\n",
       "\n",
       "    .dataframe tbody tr th {\n",
       "        vertical-align: top;\n",
       "    }\n",
       "\n",
       "    .dataframe thead th {\n",
       "        text-align: right;\n",
       "    }\n",
       "</style>\n",
       "<table border=\"1\" class=\"dataframe\">\n",
       "  <thead>\n",
       "    <tr style=\"text-align: right;\">\n",
       "      <th></th>\n",
       "      <th>Survived</th>\n",
       "    </tr>\n",
       "  </thead>\n",
       "  <tbody>\n",
       "    <tr>\n",
       "      <th>Age</th>\n",
       "      <td>-0.077221</td>\n",
       "    </tr>\n",
       "    <tr>\n",
       "      <th>Pclass</th>\n",
       "      <td>-0.338481</td>\n",
       "    </tr>\n",
       "    <tr>\n",
       "      <th>SibSp</th>\n",
       "      <td>-0.035322</td>\n",
       "    </tr>\n",
       "    <tr>\n",
       "      <th>Parch</th>\n",
       "      <td>0.081629</td>\n",
       "    </tr>\n",
       "    <tr>\n",
       "      <th>Fare</th>\n",
       "      <td>0.257307</td>\n",
       "    </tr>\n",
       "    <tr>\n",
       "      <th>Relatives</th>\n",
       "      <td>0.203367</td>\n",
       "    </tr>\n",
       "    <tr>\n",
       "      <th>Survived</th>\n",
       "      <td>1.000000</td>\n",
       "    </tr>\n",
       "    <tr>\n",
       "      <th>Sex_female</th>\n",
       "      <td>0.543351</td>\n",
       "    </tr>\n",
       "    <tr>\n",
       "      <th>Sex_male</th>\n",
       "      <td>-0.543351</td>\n",
       "    </tr>\n",
       "    <tr>\n",
       "      <th>Embarked_C</th>\n",
       "      <td>0.168240</td>\n",
       "    </tr>\n",
       "    <tr>\n",
       "      <th>Embarked_Q</th>\n",
       "      <td>0.003650</td>\n",
       "    </tr>\n",
       "    <tr>\n",
       "      <th>Embarked_S</th>\n",
       "      <td>-0.155660</td>\n",
       "    </tr>\n",
       "  </tbody>\n",
       "</table>\n",
       "</div>"
      ],
      "text/plain": [
       "            Survived\n",
       "Age        -0.077221\n",
       "Pclass     -0.338481\n",
       "SibSp      -0.035322\n",
       "Parch       0.081629\n",
       "Fare        0.257307\n",
       "Relatives   0.203367\n",
       "Survived    1.000000\n",
       "Sex_female  0.543351\n",
       "Sex_male   -0.543351\n",
       "Embarked_C  0.168240\n",
       "Embarked_Q  0.003650\n",
       "Embarked_S -0.155660"
      ]
     },
     "execution_count": 10,
     "metadata": {},
     "output_type": "execute_result"
    }
   ],
   "source": [
    "train_data['Relatives'] = train_data['SibSp'] + train_data['Parch'] > 0\n",
    "pd.get_dummies(train_data[['Sex', 'Age', 'Embarked', 'Pclass', 'SibSp', 'Parch', 'Fare', 'Relatives', 'Survived']]).corr()[['Survived']]"
   ]
  },
  {
   "cell_type": "code",
   "execution_count": 11,
   "id": "regulation-account",
   "metadata": {
    "execution": {
     "iopub.execute_input": "2021-04-29T14:42:24.529738Z",
     "iopub.status.busy": "2021-04-29T14:42:24.528903Z",
     "iopub.status.idle": "2021-04-29T14:42:40.939659Z",
     "shell.execute_reply": "2021-04-29T14:42:40.938534Z"
    },
    "papermill": {
     "duration": 16.438203,
     "end_time": "2021-04-29T14:42:40.939831",
     "exception": false,
     "start_time": "2021-04-29T14:42:24.501628",
     "status": "completed"
    },
    "tags": []
   },
   "outputs": [
    {
     "data": {
      "image/png": "[encoded data removed]",
      "text/plain": [
       "<Figure size 360x360 with 1 Axes>"
      ]
     },
     "metadata": {
      "needs_background": "light"
     },
     "output_type": "display_data"
    },
    {
     "data": {
      "image/png": "[encoded data removed]",
      "text/plain": [
       "<Figure size 360x360 with 1 Axes>"
      ]
     },
     "metadata": {
      "needs_background": "light"
     },
     "output_type": "display_data"
    },
    {
     "data": {
      "image/png": "[encoded data removed]",
      "text/plain": [
       "<Figure size 360x360 with 1 Axes>"
      ]
     },
     "metadata": {
      "needs_background": "light"
     },
     "output_type": "display_data"
    },
    {
     "data": {
      "image/png": "[encoded data removed]",
      "text/plain": [
       "<Figure size 360x360 with 1 Axes>"
      ]
     },
     "metadata": {
      "needs_background": "light"
     },
     "output_type": "display_data"
    },
    {
     "data": {
      "image/png": "[encoded data removed]",
      "text/plain": [
       "<Figure size 360x360 with 1 Axes>"
      ]
     },
     "metadata": {
      "needs_background": "light"
     },
     "output_type": "display_data"
    },
    {
     "data": {
      "image/png": "[encoded data removed]",
      "text/plain": [
       "<Figure size 360x360 with 1 Axes>"
      ]
     },
     "metadata": {
      "needs_background": "light"
     },
     "output_type": "display_data"
    },
    {
     "data": {
      "image/png": "[encoded data removed]",
      "text/plain": [
       "<Figure size 360x360 with 1 Axes>"
      ]
     },
     "metadata": {
      "needs_background": "light"
     },
     "output_type": "display_data"
    },
    {
     "data": {
      "image/png": "[encoded data removed]",
      "text/plain": [
       "<Figure size 360x360 with 1 Axes>"
      ]
     },
     "metadata": {
      "needs_background": "light"
     },
     "output_type": "display_data"
    }
   ],
   "source": [
    "import seaborn as sns\n",
    "\n",
    "for column in ['Sex', 'Age', 'Embarked', 'Pclass', 'SibSp', 'Parch', 'Fare', 'Relatives']:\n",
    "    sns.catplot(x=column,y='Survived', data=train_data, kind='point');"
   ]
  },
  {
   "cell_type": "code",
   "execution_count": 12,
   "id": "electoral-glasgow",
   "metadata": {
    "execution": {
     "iopub.execute_input": "2021-04-29T14:42:41.006515Z",
     "iopub.status.busy": "2021-04-29T14:42:41.005546Z",
     "iopub.status.idle": "2021-04-29T14:42:44.254235Z",
     "shell.execute_reply": "2021-04-29T14:42:44.254804Z"
    },
    "papermill": {
     "duration": 3.284986,
     "end_time": "2021-04-29T14:42:44.255021",
     "exception": false,
     "start_time": "2021-04-29T14:42:40.970035",
     "status": "completed"
    },
    "tags": []
   },
   "outputs": [
    {
     "data": {
      "text/plain": [
       "<seaborn.axisgrid.FacetGrid at 0x7f2de5959d50>"
      ]
     },
     "execution_count": 12,
     "metadata": {},
     "output_type": "execute_result"
    },
    {
     "data": {
      "image/png": "[encoded data removed]",
      "text/plain": [
       "<Figure size 720x360 with 2 Axes>"
      ]
     },
     "metadata": {
      "needs_background": "light"
     },
     "output_type": "display_data"
    }
   ],
   "source": [
    "sns.catplot(x='Age', y='Survived', col='Sex', data=train_data, kind='bar', ci=None)"
   ]
  },
  {
   "cell_type": "code",
   "execution_count": 13,
   "id": "formal-petite",
   "metadata": {
    "execution": {
     "iopub.execute_input": "2021-04-29T14:42:44.324805Z",
     "iopub.status.busy": "2021-04-29T14:42:44.323981Z",
     "iopub.status.idle": "2021-04-29T14:42:52.814282Z",
     "shell.execute_reply": "2021-04-29T14:42:52.813592Z"
    },
    "papermill": {
     "duration": 8.527934,
     "end_time": "2021-04-29T14:42:52.814428",
     "exception": false,
     "start_time": "2021-04-29T14:42:44.286494",
     "status": "completed"
    },
    "tags": []
   },
   "outputs": [
    {
     "data": {
      "text/plain": [
       "<seaborn.axisgrid.FacetGrid at 0x7f2de593f5d0>"
      ]
     },
     "execution_count": 13,
     "metadata": {},
     "output_type": "execute_result"
    },
    {
     "data": {
      "image/png": "[encoded data removed]",
      "text/plain": [
       "<Figure size 720x360 with 2 Axes>"
      ]
     },
     "metadata": {
      "needs_background": "light"
     },
     "output_type": "display_data"
    }
   ],
   "source": [
    "sns.catplot(x='Fare', y='Survived', col='Sex', data=train_data, kind='bar', ci=None)"
   ]
  },
  {
   "cell_type": "code",
   "execution_count": 14,
   "id": "searching-clerk",
   "metadata": {
    "execution": {
     "iopub.execute_input": "2021-04-29T14:42:52.888394Z",
     "iopub.status.busy": "2021-04-29T14:42:52.887558Z",
     "iopub.status.idle": "2021-04-29T14:42:53.408899Z",
     "shell.execute_reply": "2021-04-29T14:42:53.409415Z"
    },
    "papermill": {
     "duration": 0.562574,
     "end_time": "2021-04-29T14:42:53.409632",
     "exception": false,
     "start_time": "2021-04-29T14:42:52.847058",
     "status": "completed"
    },
    "tags": []
   },
   "outputs": [],
   "source": [
    "from sklearn.pipeline import Pipeline\n",
    "from sklearn.compose import ColumnTransformer\n",
    "from sklearn.impute import SimpleImputer\n",
    "from sklearn.preprocessing import OneHotEncoder, StandardScaler\n",
    "\n",
    "# features = ['Age', 'Sex', 'Pclass', 'SibSp', 'Parch', 'Embarked']\n",
    "num_cols = ['Age', 'Pclass', 'SibSp', 'Parch', 'Fare']\n",
    "cat_cols = ['Sex', 'Embarked']\n",
    "features = num_cols + cat_cols\n",
    "X_train = train_data[features]\n",
    "y_train = train_data['Survived']\n",
    "scaler = StandardScaler()\n",
    "scaler.fit(train_data[num_cols])\n",
    "# num_transformer = SimpleImputer(strategy='mean')\n",
    "num_transformer = Pipeline(steps=[\n",
    "    ('imputer', SimpleImputer(strategy='mean')),\n",
    "    ('scaler', scaler)\n",
    "])\n",
    "cat_transformer = Pipeline(steps=[\n",
    "    ('imputer', SimpleImputer(strategy='most_frequent')),\n",
    "    ('onehotencoder', OneHotEncoder(handle_unknown='ignore'))\n",
    "])\n",
    "preprocessor = ColumnTransformer(\n",
    "    transformers=[\n",
    "        ('num', num_transformer, num_cols),\n",
    "        ('cat', cat_transformer, cat_cols)\n",
    "    ]\n",
    ")"
   ]
  },
  {
   "cell_type": "code",
   "execution_count": 15,
   "id": "legislative-affairs",
   "metadata": {
    "execution": {
     "iopub.execute_input": "2021-04-29T14:42:53.486451Z",
     "iopub.status.busy": "2021-04-29T14:42:53.485508Z",
     "iopub.status.idle": "2021-04-29T15:00:17.851096Z",
     "shell.execute_reply": "2021-04-29T15:00:17.852116Z"
    },
    "papermill": {
     "duration": 1044.407606,
     "end_time": "2021-04-29T15:00:17.852442",
     "exception": false,
     "start_time": "2021-04-29T14:42:53.444836",
     "status": "completed"
    },
    "tags": []
   },
   "outputs": [
    {
     "name": "stdout",
     "output_type": "stream",
     "text": [
      "Fitting 5 folds for each of 1430 candidates, totalling 7150 fits\n",
      "{'model__max_depth': 9, 'model__max_leaf_nodes': 10000, 'model__n_estimators': 250}\n",
      "0.8395204318624065\n"
     ]
    }
   ],
   "source": [
    "from sklearn.model_selection import GridSearchCV\n",
    "from sklearn.ensemble import RandomForestClassifier\n",
    "\n",
    "RFC_model = RandomForestClassifier()\n",
    "RFC_pipeline = Pipeline(steps=[\n",
    "    ('preprocessor', preprocessor),\n",
    "    ('model', RFC_model)\n",
    "])\n",
    "RFC_param_grid = {\n",
    "    'model__n_estimators': [10, 20, 30, 40, 50, 70, 100, 150, 200, 250, 300, 350, 400],\n",
    "    'model__max_depth': [None, 2, 3, 4, 5, 6, 7, 8, 9, 10, 11],\n",
    "    'model__max_leaf_nodes': [None, 5, 50, 500, 3000, 4000, 5000, 7000, 10000, 15000]\n",
    "}\n",
    "RFC_search = GridSearchCV(RFC_pipeline, param_grid=RFC_param_grid, n_jobs=-1, verbose=1)\n",
    "RFC_best_model = RFC_search.fit(X_train, y_train)\n",
    "print(RFC_best_model.best_params_)\n",
    "print(RFC_best_model.best_score_)"
   ]
  },
  {
   "cell_type": "code",
   "execution_count": 16,
   "id": "nervous-encounter",
   "metadata": {
    "execution": {
     "iopub.execute_input": "2021-04-29T15:00:17.933604Z",
     "iopub.status.busy": "2021-04-29T15:00:17.931358Z",
     "iopub.status.idle": "2021-04-29T15:09:55.150142Z",
     "shell.execute_reply": "2021-04-29T15:09:55.150713Z"
    },
    "papermill": {
     "duration": 577.263815,
     "end_time": "2021-04-29T15:09:55.150924",
     "exception": false,
     "start_time": "2021-04-29T15:00:17.887109",
     "status": "completed"
    },
    "tags": []
   },
   "outputs": [
    {
     "name": "stdout",
     "output_type": "stream",
     "text": [
      "Fitting 5 folds for each of 672 candidates, totalling 3360 fits\n",
      "{'model__base_estimator': DecisionTreeClassifier(max_depth=4), 'model__learning_rate': 0.01, 'model__n_estimators': 200}\n",
      "0.8272048207896555\n"
     ]
    }
   ],
   "source": [
    "from sklearn.ensemble import AdaBoostClassifier\n",
    "from sklearn.tree import DecisionTreeClassifier\n",
    "\n",
    "# ABC_base = DecisionTreeClassifier(max_depth=3)\n",
    "# ABC_model = AdaBoostClassifier(base_estimator=ABC_base)\n",
    "ABC_model = AdaBoostClassifier()\n",
    "ABC_pipeline = Pipeline(steps=[\n",
    "    ('preprocessor', preprocessor),\n",
    "    ('model', ABC_model)\n",
    "])\n",
    "ABC_param_grid = {\n",
    "    'model__n_estimators': [10, 20, 30, 40, 50, 60, 80, 100, 150, 200, 250, 300, 350, 400],\n",
    "    'model__learning_rate': [.0001, .0005, .001, .005, .01, .05, .1, .5],\n",
    "    'model__base_estimator': [\n",
    "        DecisionTreeClassifier(max_depth=None),\n",
    "        DecisionTreeClassifier(max_depth=1),\n",
    "        DecisionTreeClassifier(max_depth=2),\n",
    "        DecisionTreeClassifier(max_depth=3),\n",
    "        DecisionTreeClassifier(max_depth=4),\n",
    "        DecisionTreeClassifier(max_depth=5)\n",
    "    ]\n",
    "}\n",
    "ABC_search = GridSearchCV(ABC_pipeline, param_grid=ABC_param_grid, n_jobs=-1, verbose=1)\n",
    "ABC_best_model = ABC_search.fit(X_train, y_train)\n",
    "print(ABC_best_model.best_params_)\n",
    "print(ABC_best_model.best_score_)"
   ]
  },
  {
   "cell_type": "code",
   "execution_count": 17,
   "id": "welsh-lexington",
   "metadata": {
    "execution": {
     "iopub.execute_input": "2021-04-29T15:09:55.230496Z",
     "iopub.status.busy": "2021-04-29T15:09:55.229557Z",
     "iopub.status.idle": "2021-04-29T15:09:59.932104Z",
     "shell.execute_reply": "2021-04-29T15:09:59.932799Z"
    },
    "papermill": {
     "duration": 4.74884,
     "end_time": "2021-04-29T15:09:59.933085",
     "exception": false,
     "start_time": "2021-04-29T15:09:55.184245",
     "status": "completed"
    },
    "tags": []
   },
   "outputs": [
    {
     "name": "stdout",
     "output_type": "stream",
     "text": [
      "Fitting 5 folds for each of 28 candidates, totalling 140 fits\n",
      "{'model__C': 1, 'model__gamma': 'scale', 'model__kernel': 'rbf'}\n",
      "0.8282844768062269\n"
     ]
    }
   ],
   "source": [
    "from sklearn.svm import SVC\n",
    "\n",
    "SVC_model = SVC()\n",
    "SVC_pipeline = Pipeline(steps=[\n",
    "    ('preprocessor', preprocessor),\n",
    "    ('model', SVC_model)\n",
    "])\n",
    "SVC_param_grid = [\n",
    "    {'model__kernel': ['linear'], 'model__C': [.1, 1, 10, 100]},\n",
    "    {'model__kernel': ['poly'], 'model__C': [.1, 1, 10, 100], 'model__degree': [2, 3, 4, 5]},\n",
    "    {'model__kernel': ['rbf'], 'model__C': [.1, 1, 10, 100], 'model__gamma': ['auto', 'scale']}\n",
    "]\n",
    "SVC_search = GridSearchCV(SVC_pipeline, param_grid=SVC_param_grid, n_jobs=-1, verbose=1)\n",
    "SVC_best_model = SVC_search.fit(X_train, y_train)\n",
    "print(SVC_best_model.best_params_)\n",
    "print(SVC_best_model.best_score_)"
   ]
  },
  {
   "cell_type": "code",
   "execution_count": 18,
   "id": "popular-review",
   "metadata": {
    "execution": {
     "iopub.execute_input": "2021-04-29T15:10:00.013444Z",
     "iopub.status.busy": "2021-04-29T15:10:00.012691Z",
     "iopub.status.idle": "2021-04-29T22:41:17.205830Z",
     "shell.execute_reply": "2021-04-29T22:41:17.205293Z"
    },
    "papermill": {
     "duration": 27077.236478,
     "end_time": "2021-04-29T22:41:17.205993",
     "exception": false,
     "start_time": "2021-04-29T15:09:59.969515",
     "status": "completed"
    },
    "tags": []
   },
   "outputs": [
    {
     "name": "stdout",
     "output_type": "stream",
     "text": [
      "Fitting 5 folds for each of 144 candidates, totalling 720 fits\n",
      "[22:41:16] WARNING: ../src/learner.cc:573: \n",
      "Parameters: { \"early_stopping_rounds\" } might not be used.\n",
      "\n",
      "  This may not be accurate due to some parameters are only used in language bindings but\n",
      "  passed down to XGBoost core.  Or some parameters are not used but slip through this\n",
      "  verification. Please open an issue if you find above cases.\n",
      "\n",
      "\n",
      "[22:41:16] WARNING: ../src/learner.cc:1095: Starting in XGBoost 1.3.0, the default evaluation metric used with the objective 'binary:logistic' was changed from 'error' to 'logloss'. Explicitly set eval_metric if you'd like to restore the old behavior.\n",
      "{'model__early_stopping_rounds': 5, 'model__gamma': 1, 'model__learning_rate': 0.4, 'model__max_depth': None, 'model__n_estimators': 300, 'model__reg_alpha': 0, 'model__reg_lambda': 3}\n",
      "0.8350386039796623\n"
     ]
    }
   ],
   "source": [
    "from xgboost import XGBClassifier\n",
    "\n",
    "XGBC_model = XGBClassifier(use_label_encoder=False)\n",
    "XGBC_pipeline = Pipeline(steps=[\n",
    "    ('preprocessor', preprocessor),\n",
    "    ('model', XGBC_model)\n",
    "])\n",
    "XGBC_param_grid = {\n",
    "    'model__n_estimators': [300, 500],\n",
    "    'model__learning_rate': [.4, .5],\n",
    "    'model__max_depth': [None, 2, 6],\n",
    "    'model__reg_alpha': [0, 1],\n",
    "    'model__reg_lambda': [1, 3],\n",
    "    'model__gamma': [0, 1, 2],\n",
    "    'model__early_stopping_rounds': [5]\n",
    "}\n",
    "XGBC_search = GridSearchCV(XGBC_pipeline, param_grid=XGBC_param_grid, n_jobs=-1, verbose=1)\n",
    "XGBC_best_model = XGBC_search.fit(X_train, y_train)\n",
    "print(XGBC_best_model.best_params_)\n",
    "print(XGBC_best_model.best_score_)"
   ]
  },
  {
   "cell_type": "code",
   "execution_count": 19,
   "id": "behavioral-thesaurus",
   "metadata": {
    "execution": {
     "iopub.execute_input": "2021-04-29T22:41:17.316095Z",
     "iopub.status.busy": "2021-04-29T22:41:17.315055Z",
     "iopub.status.idle": "2021-04-29T22:41:17.321085Z",
     "shell.execute_reply": "2021-04-29T22:41:17.320293Z"
    },
    "papermill": {
     "duration": 0.078186,
     "end_time": "2021-04-29T22:41:17.321266",
     "exception": false,
     "start_time": "2021-04-29T22:41:17.243080",
     "status": "completed"
    },
    "tags": []
   },
   "outputs": [
    {
     "name": "stdout",
     "output_type": "stream",
     "text": [
      "{'model__max_depth': 9, 'model__max_leaf_nodes': 10000, 'model__n_estimators': 250}\n",
      "0.8395204318624065\n",
      "Pipeline(steps=[('preprocessor',\n",
      "                 ColumnTransformer(transformers=[('num',\n",
      "                                                  Pipeline(steps=[('imputer',\n",
      "                                                                   SimpleImputer()),\n",
      "                                                                  ('scaler',\n",
      "                                                                   StandardScaler())]),\n",
      "                                                  ['Age', 'Pclass', 'SibSp',\n",
      "                                                   'Parch', 'Fare']),\n",
      "                                                 ('cat',\n",
      "                                                  Pipeline(steps=[('imputer',\n",
      "                                                                   SimpleImputer(strategy='most_frequent')),\n",
      "                                                                  ('onehotencoder',\n",
      "                                                                   OneHotEncoder(handle_unknown='ignore'))]),\n",
      "                                                  ['Sex', 'Embarked'])])),\n",
      "                ('model',\n",
      "                 RandomForestClassifier(max_depth=9, max_leaf_nodes=10000,\n",
      "                                        n_estimators=250))])\n"
     ]
    }
   ],
   "source": [
    "best_model = max([RFC_best_model, XGBC_best_model, SVC_best_model, ABC_best_model], key=lambda x: x.best_score_)\n",
    "print(best_model.best_params_)\n",
    "print(best_model.best_score_)\n",
    "print(best_model.best_estimator_)"
   ]
  },
  {
   "cell_type": "code",
   "execution_count": 20,
   "id": "looking-excellence",
   "metadata": {
    "execution": {
     "iopub.execute_input": "2021-04-29T22:41:17.399275Z",
     "iopub.status.busy": "2021-04-29T22:41:17.398581Z",
     "iopub.status.idle": "2021-04-29T22:41:17.482184Z",
     "shell.execute_reply": "2021-04-29T22:41:17.481444Z"
    },
    "papermill": {
     "duration": 0.123311,
     "end_time": "2021-04-29T22:41:17.482369",
     "exception": false,
     "start_time": "2021-04-29T22:41:17.359058",
     "status": "completed"
    },
    "tags": []
   },
   "outputs": [],
   "source": [
    "test_data = pd.read_csv('/kaggle/input/titanic/test.csv')\n",
    "preds = best_model.best_estimator_.predict(test_data[features])\n",
    "output = pd.DataFrame({'PassengerId': test_data.PassengerId, 'Survived': preds})\n",
    "output.to_csv('submission.csv', index=False)"
   ]
  }
 ],
 "metadata": {
  "kernelspec": {
   "display_name": "Python 3",
   "language": "python",
   "name": "python3"
  },
  "language_info": {
   "codemirror_mode": {
    "name": "ipython",
    "version": 3
   },
   "file_extension": ".py",
   "mimetype": "text/x-python",
   "name": "python",
   "nbconvert_exporter": "python",
   "pygments_lexer": "ipython3",
   "version": "3.7.10"
  },
  "papermill": {
   "default_parameters": {},
   "duration": 28744.170836,
   "end_time": "2021-04-29T22:41:18.907665",
   "environment_variables": {},
   "exception": null,
   "input_path": "__notebook__.ipynb",
   "output_path": "__notebook__.ipynb",
   "parameters": {},
   "start_time": "2021-04-29T14:42:14.736829",
   "version": "2.3.3"
  }
 },
 "nbformat": 4,
 "nbformat_minor": 5
}
