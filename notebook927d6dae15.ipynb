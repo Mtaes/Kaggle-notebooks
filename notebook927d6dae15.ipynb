{
 "cells": [
  {
   "cell_type": "code",
   "execution_count": 1,
   "id": "developing-things",
   "metadata": {
    "_cell_guid": "b1076dfc-b9ad-4769-8c92-a6c4dae69d19",
    "_uuid": "8f2839f25d086af736a60e9eeb907d3b93b6e0e5",
    "execution": {
     "iopub.execute_input": "2021-05-18T17:42:25.836074Z",
     "iopub.status.busy": "2021-05-18T17:42:25.835516Z",
     "iopub.status.idle": "2021-05-18T17:42:25.839400Z",
     "shell.execute_reply": "2021-05-18T17:42:25.838926Z"
    },
    "papermill": {
     "duration": 0.017987,
     "end_time": "2021-05-18T17:42:25.839527",
     "exception": false,
     "start_time": "2021-05-18T17:42:25.821540",
     "status": "completed"
    },
    "tags": []
   },
   "outputs": [],
   "source": [
    "# This Python 3 environment comes with many helpful analytics libraries installed\n",
    "# It is defined by the kaggle/python Docker image: https://github.com/kaggle/docker-python\n",
    "# For example, here's several helpful packages to load\n",
    "\n",
    "import numpy as np # linear algebra\n",
    "import pandas as pd # data processing, CSV file I/O (e.g. pd.read_csv)\n",
    "\n",
    "# Input data files are available in the read-only \"../input/\" directory\n",
    "# For example, running this (by clicking run or pressing Shift+Enter) will list all files under the input directory\n",
    "\n",
    "# import os\n",
    "# for dirname, _, filenames in os.walk('/kaggle/input'):\n",
    "#     for filename in filenames:\n",
    "#         print(os.path.join(dirname, filename))\n",
    "\n",
    "# You can write up to 20GB to the current directory (/kaggle/working/) that gets preserved as output when you create a version using \"Save & Run All\" \n",
    "# You can also write temporary files to /kaggle/temp/, but they won't be saved outside of the current session"
   ]
  },
  {
   "cell_type": "code",
   "execution_count": 2,
   "id": "abroad-rubber",
   "metadata": {
    "execution": {
     "iopub.execute_input": "2021-05-18T17:42:25.854410Z",
     "iopub.status.busy": "2021-05-18T17:42:25.853668Z",
     "iopub.status.idle": "2021-05-18T17:42:49.138390Z",
     "shell.execute_reply": "2021-05-18T17:42:49.138976Z"
    },
    "papermill": {
     "duration": 23.294994,
     "end_time": "2021-05-18T17:42:49.139167",
     "exception": false,
     "start_time": "2021-05-18T17:42:25.844173",
     "status": "completed"
    },
    "tags": []
   },
   "outputs": [
    {
     "name": "stdout",
     "output_type": "stream",
     "text": [
      "Found 67692 files belonging to 131 classes.\n",
      "Using 54154 files for training.\n",
      "Found 67692 files belonging to 131 classes.\n",
      "Using 13538 files for validation.\n",
      "Found 22688 files belonging to 131 classes.\n"
     ]
    }
   ],
   "source": [
    "import tensorflow as tf\n",
    "\n",
    "image_dir = '../input/fruits/fruits-360/Training'\n",
    "batch_size = 128\n",
    "image_size = (100, 100)\n",
    "seed = 42\n",
    "validation_split = .2\n",
    "\n",
    "train_dataset = tf.keras.preprocessing.image_dataset_from_directory(\n",
    "    image_dir,\n",
    "    labels='inferred',\n",
    "    batch_size=batch_size,\n",
    "    image_size=image_size,\n",
    "    seed=seed,\n",
    "    validation_split=validation_split,\n",
    "    subset='training'\n",
    ")\n",
    "val_dataset = tf.keras.preprocessing.image_dataset_from_directory(\n",
    "    image_dir,\n",
    "    labels='inferred',\n",
    "    batch_size=batch_size,\n",
    "    image_size=image_size,\n",
    "    seed=seed,\n",
    "    validation_split=validation_split,\n",
    "    subset='validation'\n",
    ")\n",
    "test_dataset = tf.keras.preprocessing.image_dataset_from_directory(\n",
    "    '../input/fruits/fruits-360/Test',\n",
    "    labels='inferred',\n",
    "    batch_size=batch_size,\n",
    "    image_size=image_size\n",
    ")"
   ]
  },
  {
   "cell_type": "code",
   "execution_count": 3,
   "id": "intensive-flooring",
   "metadata": {
    "execution": {
     "iopub.execute_input": "2021-05-18T17:42:49.158484Z",
     "iopub.status.busy": "2021-05-18T17:42:49.157821Z",
     "iopub.status.idle": "2021-05-18T17:42:49.314747Z",
     "shell.execute_reply": "2021-05-18T17:42:49.314258Z"
    },
    "papermill": {
     "duration": 0.169306,
     "end_time": "2021-05-18T17:42:49.314892",
     "exception": false,
     "start_time": "2021-05-18T17:42:49.145586",
     "status": "completed"
    },
    "tags": []
   },
   "outputs": [
    {
     "name": "stdout",
     "output_type": "stream",
     "text": [
      "Model: \"sequential\"\n",
      "_________________________________________________________________\n",
      "Layer (type)                 Output Shape              Param #   \n",
      "=================================================================\n",
      "rescaling (Rescaling)        (None, 100, 100, 3)       0         \n",
      "_________________________________________________________________\n",
      "random_flip (RandomFlip)     (None, 100, 100, 3)       0         \n",
      "_________________________________________________________________\n",
      "random_rotation (RandomRotat (None, 100, 100, 3)       0         \n",
      "_________________________________________________________________\n",
      "conv2d (Conv2D)              (None, 100, 100, 64)      4864      \n",
      "_________________________________________________________________\n",
      "max_pooling2d (MaxPooling2D) (None, 50, 50, 64)        0         \n",
      "_________________________________________________________________\n",
      "conv2d_1 (Conv2D)            (None, 50, 50, 128)       73856     \n",
      "_________________________________________________________________\n",
      "max_pooling2d_1 (MaxPooling2 (None, 25, 25, 128)       0         \n",
      "_________________________________________________________________\n",
      "conv2d_2 (Conv2D)            (None, 25, 25, 256)       295168    \n",
      "_________________________________________________________________\n",
      "max_pooling2d_2 (MaxPooling2 (None, 12, 12, 256)       0         \n",
      "_________________________________________________________________\n",
      "flatten (Flatten)            (None, 36864)             0         \n",
      "_________________________________________________________________\n",
      "dense (Dense)                (None, 64)                2359360   \n",
      "_________________________________________________________________\n",
      "dense_1 (Dense)              (None, 32)                2080      \n",
      "_________________________________________________________________\n",
      "dense_2 (Dense)              (None, 131)               4323      \n",
      "=================================================================\n",
      "Total params: 2,739,651\n",
      "Trainable params: 2,739,651\n",
      "Non-trainable params: 0\n",
      "_________________________________________________________________\n"
     ]
    }
   ],
   "source": [
    "from tensorflow.keras import layers\n",
    "\n",
    "model = tf.keras.Sequential([\n",
    "    layers.experimental.preprocessing.Rescaling(scale=1./255, input_shape=image_size+(3,)),\n",
    "    layers.experimental.preprocessing.RandomFlip('horizontal'),\n",
    "    layers.experimental.preprocessing.RandomRotation(.2),\n",
    "    layers.Conv2D(filters=64, kernel_size=5, activation='relu', padding='same'),\n",
    "    layers.MaxPool2D(),\n",
    "    layers.Conv2D(filters=128, kernel_size=3, activation='relu', padding='same'),\n",
    "    layers.MaxPool2D(),\n",
    "    layers.Conv2D(filters=256, kernel_size=3, activation='relu', padding='same'),\n",
    "    layers.MaxPool2D(),\n",
    "    layers.Flatten(),\n",
    "    layers.Dense(units=64, activation='relu'),\n",
    "    layers.Dense(units=32, activation='relu'),\n",
    "    layers.Dense(units=131, activation='softmax')\n",
    "])\n",
    "model.summary()"
   ]
  },
  {
   "cell_type": "code",
   "execution_count": 4,
   "id": "wrapped-whale",
   "metadata": {
    "execution": {
     "iopub.execute_input": "2021-05-18T17:42:49.333213Z",
     "iopub.status.busy": "2021-05-18T17:42:49.332454Z",
     "iopub.status.idle": "2021-05-18T20:00:46.527474Z",
     "shell.execute_reply": "2021-05-18T20:00:46.528151Z"
    },
    "papermill": {
     "duration": 8277.207583,
     "end_time": "2021-05-18T20:00:46.528316",
     "exception": false,
     "start_time": "2021-05-18T17:42:49.320733",
     "status": "completed"
    },
    "tags": []
   },
   "outputs": [
    {
     "name": "stdout",
     "output_type": "stream",
     "text": [
      "Epoch 1/60\n",
      "424/424 [==============================] - 614s 1s/step - loss: 3.3997 - accuracy: 0.2320 - val_loss: 0.5118 - val_accuracy: 0.8279\n",
      "Epoch 2/60\n",
      "424/424 [==============================] - 287s 673ms/step - loss: 0.3972 - accuracy: 0.8751 - val_loss: 0.2630 - val_accuracy: 0.9063\n",
      "Epoch 3/60\n",
      "424/424 [==============================] - 324s 760ms/step - loss: 0.1937 - accuracy: 0.9358 - val_loss: 0.1551 - val_accuracy: 0.9478\n",
      "Epoch 4/60\n",
      "424/424 [==============================] - 278s 650ms/step - loss: 0.1603 - accuracy: 0.9447 - val_loss: 0.0880 - val_accuracy: 0.9713\n",
      "Epoch 5/60\n",
      "424/424 [==============================] - 256s 602ms/step - loss: 0.1406 - accuracy: 0.9583 - val_loss: 0.1187 - val_accuracy: 0.9564\n",
      "Epoch 6/60\n",
      "424/424 [==============================] - 259s 610ms/step - loss: 0.0755 - accuracy: 0.9754 - val_loss: 0.0682 - val_accuracy: 0.9820\n",
      "Epoch 7/60\n",
      "424/424 [==============================] - 314s 736ms/step - loss: 0.1084 - accuracy: 0.9644 - val_loss: 0.1538 - val_accuracy: 0.9501\n",
      "Epoch 8/60\n",
      "424/424 [==============================] - 313s 735ms/step - loss: 0.0621 - accuracy: 0.9785 - val_loss: 0.0544 - val_accuracy: 0.9799\n",
      "Epoch 9/60\n",
      "424/424 [==============================] - 318s 747ms/step - loss: 0.0558 - accuracy: 0.9822 - val_loss: 0.1950 - val_accuracy: 0.9365\n",
      "Epoch 10/60\n",
      "424/424 [==============================] - 320s 751ms/step - loss: 0.0656 - accuracy: 0.9791 - val_loss: 0.0875 - val_accuracy: 0.9711\n",
      "Epoch 11/60\n",
      "424/424 [==============================] - 318s 745ms/step - loss: 0.0922 - accuracy: 0.9729 - val_loss: 0.0199 - val_accuracy: 0.9931\n",
      "Epoch 12/60\n",
      "424/424 [==============================] - 314s 738ms/step - loss: 0.0459 - accuracy: 0.9850 - val_loss: 0.0204 - val_accuracy: 0.9929\n",
      "Epoch 13/60\n",
      "424/424 [==============================] - 314s 736ms/step - loss: 0.0454 - accuracy: 0.9858 - val_loss: 0.0132 - val_accuracy: 0.9967\n",
      "Epoch 14/60\n",
      "424/424 [==============================] - 322s 757ms/step - loss: 0.0233 - accuracy: 0.9921 - val_loss: 0.1858 - val_accuracy: 0.9476\n",
      "Epoch 15/60\n",
      "424/424 [==============================] - 312s 732ms/step - loss: 0.0654 - accuracy: 0.9796 - val_loss: 0.0434 - val_accuracy: 0.9892\n",
      "Epoch 16/60\n",
      "424/424 [==============================] - 272s 640ms/step - loss: 0.0344 - accuracy: 0.9905 - val_loss: 0.0340 - val_accuracy: 0.9893\n",
      "Epoch 17/60\n",
      "424/424 [==============================] - 304s 717ms/step - loss: 0.0212 - accuracy: 0.9926 - val_loss: 0.0474 - val_accuracy: 0.9839\n",
      "Epoch 18/60\n",
      "424/424 [==============================] - 272s 637ms/step - loss: 0.0290 - accuracy: 0.9906 - val_loss: 0.0485 - val_accuracy: 0.9879\n",
      "Epoch 19/60\n",
      "424/424 [==============================] - 256s 601ms/step - loss: 0.1024 - accuracy: 0.9733 - val_loss: 0.0165 - val_accuracy: 0.9938\n",
      "Epoch 20/60\n",
      "424/424 [==============================] - 256s 601ms/step - loss: 0.0267 - accuracy: 0.9919 - val_loss: 0.0124 - val_accuracy: 0.9962\n",
      "Epoch 21/60\n",
      "424/424 [==============================] - 256s 603ms/step - loss: 0.0354 - accuracy: 0.9891 - val_loss: 0.0179 - val_accuracy: 0.9942\n",
      "Epoch 22/60\n",
      "424/424 [==============================] - 257s 605ms/step - loss: 0.0384 - accuracy: 0.9890 - val_loss: 0.0111 - val_accuracy: 0.9968\n",
      "Epoch 23/60\n",
      "424/424 [==============================] - 256s 603ms/step - loss: 0.0342 - accuracy: 0.9898 - val_loss: 0.0076 - val_accuracy: 0.9987\n",
      "Epoch 24/60\n",
      "424/424 [==============================] - 257s 604ms/step - loss: 0.0134 - accuracy: 0.9963 - val_loss: 0.1374 - val_accuracy: 0.9576\n",
      "Epoch 25/60\n",
      "424/424 [==============================] - 257s 604ms/step - loss: 0.0337 - accuracy: 0.9891 - val_loss: 0.0259 - val_accuracy: 0.9919\n",
      "Epoch 26/60\n",
      "424/424 [==============================] - 256s 603ms/step - loss: 0.0034 - accuracy: 0.9991 - val_loss: 0.0050 - val_accuracy: 0.9993\n",
      "Epoch 27/60\n",
      "424/424 [==============================] - 256s 601ms/step - loss: 0.0234 - accuracy: 0.9931 - val_loss: 0.0377 - val_accuracy: 0.9878\n",
      "Epoch 28/60\n",
      "424/424 [==============================] - 256s 602ms/step - loss: 0.0287 - accuracy: 0.9911 - val_loss: 0.1559 - val_accuracy: 0.9541\n"
     ]
    }
   ],
   "source": [
    "callbacks = [\n",
    "    tf.keras.callbacks.EarlyStopping(\n",
    "        monitor='val_accuracy',\n",
    "        min_delta=.003,\n",
    "        patience=15,\n",
    "        restore_best_weights=True\n",
    "    )\n",
    "]\n",
    "model.compile(\n",
    "    optimizer='Adam',\n",
    "    loss='sparse_categorical_crossentropy',\n",
    "    metrics=['accuracy']\n",
    ")\n",
    "history = model.fit(\n",
    "    train_dataset,\n",
    "    validation_data=val_dataset,\n",
    "    epochs=60,\n",
    "    callbacks=callbacks\n",
    ")"
   ]
  },
  {
   "cell_type": "code",
   "execution_count": 5,
   "id": "severe-madness",
   "metadata": {
    "execution": {
     "iopub.execute_input": "2021-05-18T20:00:53.223721Z",
     "iopub.status.busy": "2021-05-18T20:00:53.223055Z",
     "iopub.status.idle": "2021-05-18T20:00:53.537508Z",
     "shell.execute_reply": "2021-05-18T20:00:53.537103Z"
    },
    "papermill": {
     "duration": 3.781723,
     "end_time": "2021-05-18T20:00:53.537645",
     "exception": false,
     "start_time": "2021-05-18T20:00:49.755922",
     "status": "completed"
    },
    "tags": []
   },
   "outputs": [
    {
     "data": {
      "text/plain": [
       "<AxesSubplot:>"
      ]
     },
     "execution_count": 5,
     "metadata": {},
     "output_type": "execute_result"
    },
    {
     "data": {
      "image/png": "[encoded data removed]",
      "text/plain": [
       "<Figure size 432x288 with 1 Axes>"
      ]
     },
     "metadata": {
      "needs_background": "light"
     },
     "output_type": "display_data"
    },
    {
     "data": {
      "image/png": "[encoded data removed]",
      "text/plain": [
       "<Figure size 432x288 with 1 Axes>"
      ]
     },
     "metadata": {
      "needs_background": "light"
     },
     "output_type": "display_data"
    }
   ],
   "source": [
    "history_frame = pd.DataFrame(history.history)\n",
    "history_frame.loc[:, ['loss', 'val_loss']].plot()\n",
    "history_frame.loc[:, ['accuracy', 'val_accuracy']].plot()"
   ]
  },
  {
   "cell_type": "code",
   "execution_count": 6,
   "id": "basic-biodiversity",
   "metadata": {
    "execution": {
     "iopub.execute_input": "2021-05-18T20:00:59.717180Z",
     "iopub.status.busy": "2021-05-18T20:00:59.716374Z",
     "iopub.status.idle": "2021-05-18T20:05:01.760192Z",
     "shell.execute_reply": "2021-05-18T20:05:01.759763Z"
    },
    "papermill": {
     "duration": 245.026501,
     "end_time": "2021-05-18T20:05:01.760314",
     "exception": false,
     "start_time": "2021-05-18T20:00:56.733813",
     "status": "completed"
    },
    "tags": []
   },
   "outputs": [
    {
     "name": "stdout",
     "output_type": "stream",
     "text": [
      "178/178 [==============================] - 242s 1s/step - loss: 0.2794 - accuracy: 0.9571\n",
      "loss: 0.279405802488327\n",
      "accuracy: 0.9570698142051697\n"
     ]
    }
   ],
   "source": [
    "evaluation_stats = model.evaluate(test_dataset)\n",
    "for metric, val in zip(model.metrics_names, evaluation_stats):\n",
    "    print('{}: {}'.format(metric, val))"
   ]
  }
 ],
 "metadata": {
  "kernelspec": {
   "display_name": "Python 3",
   "language": "python",
   "name": "python3"
  },
  "language_info": {
   "codemirror_mode": {
    "name": "ipython",
    "version": 3
   },
   "file_extension": ".py",
   "mimetype": "text/x-python",
   "name": "python",
   "nbconvert_exporter": "python",
   "pygments_lexer": "ipython3",
   "version": "3.7.10"
  },
  "papermill": {
   "default_parameters": {},
   "duration": 8567.451236,
   "end_time": "2021-05-18T20:05:06.792032",
   "environment_variables": {},
   "exception": null,
   "input_path": "__notebook__.ipynb",
   "output_path": "__notebook__.ipynb",
   "parameters": {},
   "start_time": "2021-05-18T17:42:19.340796",
   "version": "2.3.3"
  }
 },
 "nbformat": 4,
 "nbformat_minor": 5
}
