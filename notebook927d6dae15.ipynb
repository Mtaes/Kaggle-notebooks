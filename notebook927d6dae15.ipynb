{
 "cells": [
  {
   "cell_type": "code",
   "execution_count": 1,
   "id": "continuing-synthetic",
   "metadata": {
    "_cell_guid": "b1076dfc-b9ad-4769-8c92-a6c4dae69d19",
    "_uuid": "8f2839f25d086af736a60e9eeb907d3b93b6e0e5",
    "execution": {
     "iopub.execute_input": "2021-05-25T19:51:30.993130Z",
     "iopub.status.busy": "2021-05-25T19:51:30.992619Z",
     "iopub.status.idle": "2021-05-25T19:51:30.996024Z",
     "shell.execute_reply": "2021-05-25T19:51:30.996425Z",
     "shell.execute_reply.started": "2021-05-25T18:17:09.170087Z"
    },
    "papermill": {
     "duration": 0.019571,
     "end_time": "2021-05-25T19:51:30.996646",
     "exception": false,
     "start_time": "2021-05-25T19:51:30.977075",
     "status": "completed"
    },
    "tags": []
   },
   "outputs": [],
   "source": [
    "# This Python 3 environment comes with many helpful analytics libraries installed\n",
    "# It is defined by the kaggle/python Docker image: https://github.com/kaggle/docker-python\n",
    "# For example, here's several helpful packages to load\n",
    "\n",
    "import numpy as np # linear algebra\n",
    "import pandas as pd # data processing, CSV file I/O (e.g. pd.read_csv)\n",
    "\n",
    "# Input data files are available in the read-only \"../input/\" directory\n",
    "# For example, running this (by clicking run or pressing Shift+Enter) will list all files under the input directory\n",
    "\n",
    "# import os\n",
    "# for dirname, _, filenames in os.walk('/kaggle/input'):\n",
    "#     for filename in filenames:\n",
    "#         print(os.path.join(dirname, filename))\n",
    "\n",
    "# You can write up to 20GB to the current directory (/kaggle/working/) that gets preserved as output when you create a version using \"Save & Run All\" \n",
    "# You can also write temporary files to /kaggle/temp/, but they won't be saved outside of the current session"
   ]
  },
  {
   "cell_type": "code",
   "execution_count": 2,
   "id": "peaceful-ordering",
   "metadata": {
    "execution": {
     "iopub.execute_input": "2021-05-25T19:51:31.012699Z",
     "iopub.status.busy": "2021-05-25T19:51:31.012094Z",
     "iopub.status.idle": "2021-05-25T19:51:47.560626Z",
     "shell.execute_reply": "2021-05-25T19:51:47.559827Z",
     "shell.execute_reply.started": "2021-05-25T18:17:09.182834Z"
    },
    "papermill": {
     "duration": 16.558967,
     "end_time": "2021-05-25T19:51:47.560752",
     "exception": false,
     "start_time": "2021-05-25T19:51:31.001785",
     "status": "completed"
    },
    "tags": []
   },
   "outputs": [
    {
     "name": "stdout",
     "output_type": "stream",
     "text": [
      "Found 67692 files belonging to 131 classes.\n",
      "Using 50769 files for training.\n",
      "Found 67692 files belonging to 131 classes.\n",
      "Using 16923 files for validation.\n",
      "Found 22688 files belonging to 131 classes.\n"
     ]
    }
   ],
   "source": [
    "import tensorflow as tf\n",
    "\n",
    "image_dir = '../input/fruits/fruits-360/Training'\n",
    "batch_size = 128\n",
    "image_size = (100, 100)\n",
    "seed = 42\n",
    "validation_split = .25\n",
    "\n",
    "train_dataset = tf.keras.preprocessing.image_dataset_from_directory(\n",
    "    image_dir,\n",
    "    labels='inferred',\n",
    "    batch_size=batch_size,\n",
    "    image_size=image_size,\n",
    "    seed=seed,\n",
    "    validation_split=validation_split,\n",
    "    subset='training'\n",
    ")\n",
    "val_dataset = tf.keras.preprocessing.image_dataset_from_directory(\n",
    "    image_dir,\n",
    "    labels='inferred',\n",
    "    batch_size=batch_size,\n",
    "    image_size=image_size,\n",
    "    seed=seed,\n",
    "    validation_split=validation_split,\n",
    "    subset='validation'\n",
    ")\n",
    "test_dataset = tf.keras.preprocessing.image_dataset_from_directory(\n",
    "    '../input/fruits/fruits-360/Test',\n",
    "    labels='inferred',\n",
    "    batch_size=batch_size,\n",
    "    image_size=image_size\n",
    ")"
   ]
  },
  {
   "cell_type": "code",
   "execution_count": 3,
   "id": "closed-idaho",
   "metadata": {
    "execution": {
     "iopub.execute_input": "2021-05-25T19:51:47.580283Z",
     "iopub.status.busy": "2021-05-25T19:51:47.579779Z",
     "iopub.status.idle": "2021-05-25T19:51:47.743265Z",
     "shell.execute_reply": "2021-05-25T19:51:47.743694Z",
     "shell.execute_reply.started": "2021-05-25T18:17:33.066556Z"
    },
    "papermill": {
     "duration": 0.176963,
     "end_time": "2021-05-25T19:51:47.743861",
     "exception": false,
     "start_time": "2021-05-25T19:51:47.566898",
     "status": "completed"
    },
    "tags": []
   },
   "outputs": [
    {
     "name": "stdout",
     "output_type": "stream",
     "text": [
      "Model: \"sequential\"\n",
      "_________________________________________________________________\n",
      "Layer (type)                 Output Shape              Param #   \n",
      "=================================================================\n",
      "rescaling (Rescaling)        (None, 100, 100, 3)       0         \n",
      "_________________________________________________________________\n",
      "random_flip (RandomFlip)     (None, 100, 100, 3)       0         \n",
      "_________________________________________________________________\n",
      "random_rotation (RandomRotat (None, 100, 100, 3)       0         \n",
      "_________________________________________________________________\n",
      "conv2d (Conv2D)              (None, 100, 100, 64)      4864      \n",
      "_________________________________________________________________\n",
      "max_pooling2d (MaxPooling2D) (None, 50, 50, 64)        0         \n",
      "_________________________________________________________________\n",
      "conv2d_1 (Conv2D)            (None, 50, 50, 128)       73856     \n",
      "_________________________________________________________________\n",
      "max_pooling2d_1 (MaxPooling2 (None, 25, 25, 128)       0         \n",
      "_________________________________________________________________\n",
      "conv2d_2 (Conv2D)            (None, 25, 25, 256)       295168    \n",
      "_________________________________________________________________\n",
      "max_pooling2d_2 (MaxPooling2 (None, 12, 12, 256)       0         \n",
      "_________________________________________________________________\n",
      "flatten (Flatten)            (None, 36864)             0         \n",
      "_________________________________________________________________\n",
      "dropout (Dropout)            (None, 36864)             0         \n",
      "_________________________________________________________________\n",
      "dense (Dense)                (None, 128)               4718720   \n",
      "_________________________________________________________________\n",
      "leaky_re_lu (LeakyReLU)      (None, 128)               0         \n",
      "_________________________________________________________________\n",
      "dropout_1 (Dropout)          (None, 128)               0         \n",
      "_________________________________________________________________\n",
      "dense_1 (Dense)              (None, 131)               16899     \n",
      "=================================================================\n",
      "Total params: 5,109,507\n",
      "Trainable params: 5,109,507\n",
      "Non-trainable params: 0\n",
      "_________________________________________________________________\n"
     ]
    }
   ],
   "source": [
    "from tensorflow.keras import layers\n",
    "\n",
    "model = tf.keras.Sequential([\n",
    "    layers.experimental.preprocessing.Rescaling(scale=1./255, input_shape=image_size+(3,)),\n",
    "    layers.experimental.preprocessing.RandomFlip('horizontal'),\n",
    "    layers.experimental.preprocessing.RandomRotation(.5),\n",
    "    layers.Conv2D(filters=64, kernel_size=5, activation='relu', padding='same'),\n",
    "    layers.MaxPool2D(),\n",
    "    layers.Conv2D(filters=128, kernel_size=3, activation='relu', padding='same'),\n",
    "    layers.MaxPool2D(),\n",
    "    layers.Conv2D(filters=256, kernel_size=3, activation='relu', padding='same'),\n",
    "    layers.MaxPool2D(),\n",
    "    layers.Flatten(),\n",
    "    layers.Dropout(.3),\n",
    "    layers.Dense(units=128),\n",
    "    layers.LeakyReLU(alpha=.3),\n",
    "    layers.Dropout(.3),\n",
    "    layers.Dense(units=131, activation='softmax')\n",
    "])\n",
    "model.summary()"
   ]
  },
  {
   "cell_type": "code",
   "execution_count": 4,
   "id": "western-oxygen",
   "metadata": {
    "execution": {
     "iopub.execute_input": "2021-05-25T19:51:47.767343Z",
     "iopub.status.busy": "2021-05-25T19:51:47.766505Z",
     "iopub.status.idle": "2021-05-25T20:53:11.935126Z",
     "shell.execute_reply": "2021-05-25T20:53:11.935757Z",
     "shell.execute_reply.started": "2021-05-25T18:17:33.238912Z"
    },
    "papermill": {
     "duration": 3684.18563,
     "end_time": "2021-05-25T20:53:11.936012",
     "exception": false,
     "start_time": "2021-05-25T19:51:47.750382",
     "status": "completed"
    },
    "tags": []
   },
   "outputs": [
    {
     "name": "stdout",
     "output_type": "stream",
     "text": [
      "Epoch 1/60\n",
      "397/397 [==============================] - 485s 1s/step - loss: 2.8316 - accuracy: 0.3225 - val_loss: 0.2366 - val_accuracy: 0.9378\n",
      "Epoch 2/60\n",
      "397/397 [==============================] - 245s 617ms/step - loss: 0.3927 - accuracy: 0.8812 - val_loss: 0.0852 - val_accuracy: 0.9744\n",
      "Epoch 3/60\n",
      "397/397 [==============================] - 246s 618ms/step - loss: 0.1970 - accuracy: 0.9351 - val_loss: 0.0706 - val_accuracy: 0.9758\n",
      "Epoch 4/60\n",
      "397/397 [==============================] - 246s 618ms/step - loss: 0.1261 - accuracy: 0.9567 - val_loss: 0.0346 - val_accuracy: 0.9885\n",
      "Epoch 5/60\n",
      "397/397 [==============================] - 246s 619ms/step - loss: 0.1272 - accuracy: 0.9586 - val_loss: 0.0230 - val_accuracy: 0.9922\n",
      "Epoch 6/60\n",
      "397/397 [==============================] - 246s 619ms/step - loss: 0.0852 - accuracy: 0.9710 - val_loss: 0.0197 - val_accuracy: 0.9936\n",
      "Epoch 7/60\n",
      "397/397 [==============================] - 246s 619ms/step - loss: 0.0798 - accuracy: 0.9732 - val_loss: 0.0133 - val_accuracy: 0.9954\n",
      "Epoch 8/60\n",
      "397/397 [==============================] - 246s 619ms/step - loss: 0.0629 - accuracy: 0.9783 - val_loss: 0.0298 - val_accuracy: 0.9900\n",
      "Epoch 9/60\n",
      "397/397 [==============================] - 246s 618ms/step - loss: 0.0686 - accuracy: 0.9764 - val_loss: 0.0506 - val_accuracy: 0.9834\n",
      "Epoch 10/60\n",
      "397/397 [==============================] - 246s 618ms/step - loss: 0.0723 - accuracy: 0.9775 - val_loss: 0.0461 - val_accuracy: 0.9830\n",
      "Epoch 11/60\n",
      "397/397 [==============================] - 246s 618ms/step - loss: 0.0551 - accuracy: 0.9825 - val_loss: 0.0247 - val_accuracy: 0.9926\n",
      "Epoch 12/60\n",
      "397/397 [==============================] - 246s 619ms/step - loss: 0.0515 - accuracy: 0.9826 - val_loss: 0.0312 - val_accuracy: 0.9889\n",
      "Epoch 13/60\n",
      "397/397 [==============================] - 246s 618ms/step - loss: 0.0446 - accuracy: 0.9858 - val_loss: 0.0157 - val_accuracy: 0.9949\n",
      "Epoch 14/60\n",
      "397/397 [==============================] - 246s 619ms/step - loss: 0.0461 - accuracy: 0.9853 - val_loss: 0.0142 - val_accuracy: 0.9937\n"
     ]
    }
   ],
   "source": [
    "callbacks = [\n",
    "    tf.keras.callbacks.EarlyStopping(\n",
    "        monitor='val_accuracy',\n",
    "        min_delta=.001,\n",
    "        patience=7,\n",
    "        restore_best_weights=True\n",
    "    )\n",
    "]\n",
    "model.compile(\n",
    "    optimizer='Adam',\n",
    "    loss='sparse_categorical_crossentropy',\n",
    "    metrics=['accuracy']\n",
    ")\n",
    "history = model.fit(\n",
    "    train_dataset,\n",
    "    validation_data=val_dataset,\n",
    "    epochs=60,\n",
    "    callbacks=callbacks\n",
    ")"
   ]
  },
  {
   "cell_type": "code",
   "execution_count": 5,
   "id": "alpine-elder",
   "metadata": {
    "execution": {
     "iopub.execute_input": "2021-05-25T20:53:14.817688Z",
     "iopub.status.busy": "2021-05-25T20:53:14.817062Z",
     "iopub.status.idle": "2021-05-25T20:53:15.132299Z",
     "shell.execute_reply": "2021-05-25T20:53:15.132721Z",
     "shell.execute_reply.started": "2021-05-25T19:47:33.672497Z"
    },
    "papermill": {
     "duration": 1.730779,
     "end_time": "2021-05-25T20:53:15.132869",
     "exception": false,
     "start_time": "2021-05-25T20:53:13.402090",
     "status": "completed"
    },
    "tags": []
   },
   "outputs": [
    {
     "data": {
      "text/plain": [
       "<AxesSubplot:>"
      ]
     },
     "execution_count": 5,
     "metadata": {},
     "output_type": "execute_result"
    },
    {
     "data": {
      "image/png": "[encoded data removed]",
      "text/plain": [
       "<Figure size 432x288 with 1 Axes>"
      ]
     },
     "metadata": {
      "needs_background": "light"
     },
     "output_type": "display_data"
    },
    {
     "data": {
      "image/png": "[encoded data removed]",
      "text/plain": [
       "<Figure size 432x288 with 1 Axes>"
      ]
     },
     "metadata": {
      "needs_background": "light"
     },
     "output_type": "display_data"
    }
   ],
   "source": [
    "history_frame = pd.DataFrame(history.history)\n",
    "history_frame.loc[:, ['loss', 'val_loss']].plot()\n",
    "history_frame.loc[:, ['accuracy', 'val_accuracy']].plot()"
   ]
  },
  {
   "cell_type": "code",
   "execution_count": 6,
   "id": "operating-humanitarian",
   "metadata": {
    "execution": {
     "iopub.execute_input": "2021-05-25T20:53:17.952493Z",
     "iopub.status.busy": "2021-05-25T20:53:17.951708Z",
     "iopub.status.idle": "2021-05-25T20:56:15.231518Z",
     "shell.execute_reply": "2021-05-25T20:56:15.231096Z",
     "shell.execute_reply.started": "2021-05-25T19:47:34.013128Z"
    },
    "papermill": {
     "duration": 178.691875,
     "end_time": "2021-05-25T20:56:15.231674",
     "exception": false,
     "start_time": "2021-05-25T20:53:16.539799",
     "status": "completed"
    },
    "tags": []
   },
   "outputs": [
    {
     "name": "stdout",
     "output_type": "stream",
     "text": [
      "178/178 [==============================] - 177s 960ms/step - loss: 0.1719 - accuracy: 0.9711\n",
      "loss: 0.17189645767211914\n",
      "accuracy: 0.9710860252380371\n"
     ]
    }
   ],
   "source": [
    "evaluation_stats = model.evaluate(test_dataset)\n",
    "for metric, val in zip(model.metrics_names, evaluation_stats):\n",
    "    print('{}: {}'.format(metric, val))"
   ]
  }
 ],
 "metadata": {
  "kernelspec": {
   "display_name": "Python 3",
   "language": "python",
   "name": "python3"
  },
  "language_info": {
   "codemirror_mode": {
    "name": "ipython",
    "version": 3
   },
   "file_extension": ".py",
   "mimetype": "text/x-python",
   "name": "python",
   "nbconvert_exporter": "python",
   "pygments_lexer": "ipython3",
   "version": "3.7.10"
  },
  "papermill": {
   "default_parameters": {},
   "duration": 3894.61,
   "end_time": "2021-05-25T20:56:19.157440",
   "environment_variables": {},
   "exception": null,
   "input_path": "__notebook__.ipynb",
   "output_path": "__notebook__.ipynb",
   "parameters": {},
   "start_time": "2021-05-25T19:51:24.547440",
   "version": "2.3.3"
  }
 },
 "nbformat": 4,
 "nbformat_minor": 5
}
